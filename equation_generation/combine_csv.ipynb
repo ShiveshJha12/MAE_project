{
 "cells": [
  {
   "cell_type": "code",
   "execution_count": 1,
   "metadata": {},
   "outputs": [
    {
     "name": "stdout",
     "output_type": "stream",
     "text": [
      "Merged 10 CSV files\n",
      "Final dataset shape: (5074000, 7)\n"
     ]
    }
   ],
   "source": [
    "import pandas as pd\n",
    "import os\n",
    "\n",
    "# Set directories\n",
    "base_dir = '/Users/shiveshjha/Downloads/TDTR_WITH_ML-MAIN/equation_generation/'\n",
    "dataset_dir = os.path.join(base_dir, 'datasets_complex')\n",
    "final_dir = os.path.join(base_dir, 'final_dataset')\n",
    "\n",
    "# Create final_dataset directory if it doesn't exist\n",
    "os.makedirs(final_dir, exist_ok=True)\n",
    "\n",
    "# Read and merge all CSV files\n",
    "all_csvs = [pd.read_csv(os.path.join(dataset_dir, f)) \n",
    "            for f in os.listdir(dataset_dir) \n",
    "            if f.endswith('.csv')]\n",
    "\n",
    "# Concatenate all dataframes\n",
    "merged_df = pd.concat(all_csvs, ignore_index=True)\n",
    "\n",
    "# Save merged dataset\n",
    "merged_df.to_csv(os.path.join(final_dir, 'complete_dataset.csv'), index=False)\n",
    "\n",
    "print(f\"Merged {len(all_csvs)} CSV files\")\n",
    "print(f\"Final dataset shape: {merged_df.shape}\")"
   ]
  },
  {
   "cell_type": "code",
   "execution_count": 2,
   "metadata": {},
   "outputs": [],
   "source": [
    "df = pd.read_csv('./final_dataset/complete_dataset.csv')"
   ]
  },
  {
   "cell_type": "code",
   "execution_count": 3,
   "metadata": {},
   "outputs": [],
   "source": [
    "df['Row_ID'] = range(1, len(df) + 1)\n",
    "\n",
    "# If you want the Row_ID to be the first column, you can reorder columns like this:\n",
    "cols = ['Row_ID'] + [col for col in df.columns if col != 'Row_ID']\n",
    "df = df[cols]"
   ]
  },
  {
   "cell_type": "code",
   "execution_count": 4,
   "metadata": {},
   "outputs": [],
   "source": [
    "df.to_csv('./final_dataset/complete_dataset.csv', index = False)"
   ]
  },
  {
   "cell_type": "code",
   "execution_count": 5,
   "metadata": {},
   "outputs": [],
   "source": [
    "import pandas as pd\n",
    "import re\n",
    "\n",
    "def extract_coefficients(equation):\n",
    "    \"\"\"\n",
    "    Extracts coefficients a, b, and c from a quadratic equation string of the form 'y = ax² + bx + c'\n",
    "    \n",
    "    Parameters:\n",
    "    -----------\n",
    "    equation : str\n",
    "        The equation string to parse\n",
    "        \n",
    "    Returns:\n",
    "    --------\n",
    "    tuple\n",
    "        The coefficients (a, b, c)\n",
    "    \"\"\"\n",
    "    # Remove 'y = ' from the start\n",
    "    equation = equation.replace('y = ', '')\n",
    "    \n",
    "    # Use regular expressions to extract the coefficients\n",
    "    # Look for the pattern: number followed by 'x²', then number followed by 'x', then number\n",
    "    pattern = r'([-\\d.]+)x² *([+-] *[\\d.]+)x *([+-] *[\\d.]+)'\n",
    "    match = re.match(pattern, equation)\n",
    "    \n",
    "    if match:\n",
    "        # Convert matched strings to float numbers\n",
    "        a = float(match.group(1))\n",
    "        # Handle the sign in front of b\n",
    "        b_str = match.group(2).replace(' ', '')\n",
    "        b = float(b_str)\n",
    "        # Handle the sign in front of c\n",
    "        c_str = match.group(3).replace(' ', '')\n",
    "        c = float(c_str)\n",
    "        \n",
    "        return a, b, c\n",
    "    else:\n",
    "        return None, None, None\n",
    "\n",
    "# Read your existing CSV file\n",
    "df = pd.read_csv('./final_dataset/complete_dataset.csv')  # Replace with your actual file path\n",
    "\n",
    "# Extract coefficients and add new columns\n",
    "df[['a_coefficient', 'b_coefficient', 'c_coefficient']] = (\n",
    "    df['Equations'].apply(lambda x: pd.Series(extract_coefficients(x)))\n",
    ")"
   ]
  },
  {
   "cell_type": "code",
   "execution_count": 6,
   "metadata": {},
   "outputs": [],
   "source": [
    "# Save the modified DataFrame to a new CSV file\n",
    "df.to_csv('./final_dataset/complete_dataset_with_coefficients.csv', index=False)"
   ]
  },
  {
   "cell_type": "code",
   "execution_count": null,
   "metadata": {},
   "outputs": [],
   "source": []
  }
 ],
 "metadata": {
  "kernelspec": {
   "display_name": ".venv",
   "language": "python",
   "name": "python3"
  },
  "language_info": {
   "codemirror_mode": {
    "name": "ipython",
    "version": 3
   },
   "file_extension": ".py",
   "mimetype": "text/x-python",
   "name": "python",
   "nbconvert_exporter": "python",
   "pygments_lexer": "ipython3",
   "version": "3.12.8"
  },
  "orig_nbformat": 4
 },
 "nbformat": 4,
 "nbformat_minor": 2
}
